{
 "cells": [
  {
   "cell_type": "code",
   "execution_count": 45,
   "source": [
    "using LinearAlgebra, Statistics, Distributions, Plots, FFTW\n",
    "\n",
    "using BenchmarkTools, ProfileView"
   ],
   "outputs": [],
   "metadata": {}
  },
  {
   "cell_type": "code",
   "execution_count": 100,
   "source": [
    "function initialize(spins::Vector{Vector{Int64}}, coeffs::Vector{ComplexF64})\n",
    "    L = length(spins[1])\n",
    "    zeroSpinor = ( [(reverse(digits(i, base=2, pad=L))) for i in 0:2^L-1], zeros(ComplexF64, 2^L) )\n",
    "    for i in 1:length(spins)\n",
    "        for j in 1:length(zeroSpinor[1])\n",
    "            if spins[i] == zeroSpinor[1][j]\n",
    "                zeroSpinor[2][j] += coeffs[i]\n",
    "            end\n",
    "        end\n",
    "    end\n",
    "    return zeroSpinor[2]\n",
    "end"
   ],
   "outputs": [
    {
     "output_type": "execute_result",
     "data": {
      "text/plain": [
       "initialize (generic function with 1 method)"
      ]
     },
     "metadata": {},
     "execution_count": 100
    }
   ],
   "metadata": {}
  },
  {
   "cell_type": "code",
   "execution_count": 103,
   "source": [
    "#=function σx(n::Int,spinor::Spinor)\n",
    "    newspinor = deepcopy(spinor)\n",
    "    for state in newspinor.spins\n",
    "        state[n] = (state[n] + 1) % 2\n",
    "    end\n",
    "    return newspinor\n",
    "end=#\n",
    "function σx(n::Int, spinArray::Vector{ComplexF64}, newArray::Vector{ComplexF64})\n",
    "    L = Int(log2(length(spinArray)))\n",
    "    stride =  2^(L-n)   # 1 if n=4, 2 if n=3, 4 if n=2, 8 if n = 1\n",
    "    stride2 = 2^(n-1)   # 8 if n=4, 4 if n=3, 2 if n=2, 1 if n = 1\n",
    "\n",
    "    for i in 1:stride2\n",
    "        for j in 1:stride\n",
    "           newArray[2*(i-1)*stride+j], newArray[2*(i-1)*stride+j + stride] = spinArray[2*(i-1)*stride+j + stride], spinArray[2*(i-1)*stride+j]\n",
    "        end\n",
    "    end\n",
    "\n",
    "    return newArray\n",
    "end\n",
    "#=function σx!(n::Int, spinor::Vector{ComplexF64})\n",
    "    for i in 1:length(spinor[1])\n",
    "        spinor[1][i][n] = (spinor[1][i][n] + 1) % 2\n",
    "    end\n",
    "    return bubblesort(spinor)\n",
    "end=#\n",
    "\n",
    "#=function σy(n::Int,spinor::Spinor)\n",
    "    newspinor = deepcopy(spinor)\n",
    "    for (i,state) in enumerate(newspinor.spins)\n",
    "        state[n] = (state[n] + 1) % 2\n",
    "        newspinor.coefficients[i] *= spinor.spins[i][n] == 1 ? im : -im\n",
    "    end\n",
    "    return newspinor\n",
    "end=#\n",
    "function σy(n::Int, spinArray::Vector{ComplexF64}, newArray::Vector{ComplexF64})\n",
    "    L = Int(log2(length(spinArray)))\n",
    "    stride =  2^(L-n)   # 1 if n=4, 2 if n=3, 4 if n=2, 8 if n = 1\n",
    "    stride2 = 2^(n-1)   # 8 if n=4, 4 if n=3, 2 if n=2, 1 if n = 1\n",
    "\n",
    "    for i in 1:stride2\n",
    "        for j in 1:stride\n",
    "           newArray[2*(i-1)*stride+j], newArray[2*(i-1)*stride+j + stride] = im*spinArray[2*(i-1)*stride+j + stride], -im*spinArray[2*(i-1)*stride+j]\n",
    "        end\n",
    "    end\n",
    "\n",
    "    return newArray\n",
    "end\n",
    "#=function σy!(n::Int, spinor::Vector{ComplexF64})\n",
    "    for i in 1:length(spinor[1])\n",
    "        spinor[2][i] *= spinor[1][i][n] == 1 ? im : -im\n",
    "        spinor[1][i][n] = (spinor[1][i][n] + 1) % 2\n",
    "    end\n",
    "    return bubblesort(spinor)\n",
    "end=#\n",
    "#=function σz(n::Int,spinor::Spinor)\n",
    "    newspinor = deepcopy(spinor)\n",
    "    for i in 1:length(newspinor.coefficients)\n",
    "        newspinor.coefficients[i] *= ((spinor.spins[i][n] == 1) ? 1 : -1)\n",
    "    end\n",
    "    return newspinor\n",
    "end=#\n",
    "function σz(n::Int, spinArray::Vector{ComplexF64}, newArray::Vector{ComplexF64})\n",
    "    L = Int(log2(length(spinArray)))\n",
    "    stride =  2^(L-n)   # 1 if n=4, 2 if n=3, 4 if n=2, 8 if n = 1\n",
    "    stride2 = 2^(n-1)   # 8 if n=4, 4 if n=3, 2 if n=2, 1 if n = 1\n",
    "\n",
    "    for i in 1:stride2\n",
    "        for j in 1:stride\n",
    "           newArray[2*(i-1)*stride+j], newArray[2*(i-1)*stride+j + stride] = -spinArray[2*(i-1)*stride+j], spinArray[2*(i-1)*stride+j + stride]\n",
    "        end\n",
    "    end\n",
    "\n",
    "    return newArray\n",
    "end\n",
    "#=function σz!(n::Int, spinor::Vector{ComplexF64})\n",
    "    for i in 1:length(spinor[2])\n",
    "        spinor[2][i] *= ((spinor[1][i][n] == 1) ? 1 : -1)\n",
    "    end\n",
    "    #return bubblesort(spinor)\n",
    "    return spinor\n",
    "end=#\n",
    "#=σiσj(i,j,spinor::Spinor) = σx(i,σx(j, spinor)) + σy(i,σy(j, spinor)) + σz(i,σz(j, spinor))\n",
    "σiσj(i,j,spinor::Spinor, theta) = theta*σx(i,σx(j, spinor)) + theta*σy(i,σy(j, spinor)) + σz(i,σz(j, spinor))=#\n",
    "function efficσiσj(i,j, spinor1, spinor2, spinor3, theta) # spinor2 and 3 just need to be the same size\n",
    "    \n",
    "    if theta != 0.0\n",
    "        σx(i,σx(j,spinor1, spinor2),spinor2)\n",
    "        for i in 1:length(spinor3) \n",
    "            spinor3[i] = theta*spinor2[i]\n",
    "        end\n",
    "        \n",
    "        σy(i,σy(j,spinor1, spinor2),spinor2)\n",
    "        for i in 1:length(spinor3) \n",
    "            spinor3[i] += theta*spinor2[i]\n",
    "        end\n",
    "\n",
    "        σz(i,σz(j,spinor1, spinor2),spinor2)\n",
    "        for i in 1:length(spinor3) \n",
    "            spinor3[i] += spinor2[i]\n",
    "        end\n",
    "    else\n",
    "        σz(i,σz(j,spinor1, spinor2),spinor2)\n",
    "        for i in 1:length(spinor3) \n",
    "            spinor3[i] = spinor2[i]\n",
    "        end\n",
    "    end\n",
    "    return spinor3\n",
    "    #return theta*σx!(i,σx!(j, spinor)) + theta*σy!(i,σy!(j, spinor)) + σz!(i,σz!(j, spinor))\n",
    "end\n"
   ],
   "outputs": [
    {
     "output_type": "execute_result",
     "data": {
      "text/plain": [
       "efficσiσj (generic function with 1 method)"
      ]
     },
     "metadata": {},
     "execution_count": 103
    }
   ],
   "metadata": {}
  },
  {
   "cell_type": "code",
   "execution_count": 99,
   "source": [
    "y = initialize([[0,0,1]], [1.0 + 0.0im])\n",
    "@time σz(3, y, y)\n",
    "y"
   ],
   "outputs": [
    {
     "output_type": "stream",
     "name": "stdout",
     "text": [
      "  0.000003 seconds\n"
     ]
    },
    {
     "output_type": "execute_result",
     "data": {
      "text/plain": [
       "8-element Vector{ComplexF64}:\n",
       " -0.0 - 0.0im\n",
       "  1.0 + 0.0im\n",
       " -0.0 - 0.0im\n",
       "  0.0 + 0.0im\n",
       " -0.0 - 0.0im\n",
       "  0.0 + 0.0im\n",
       " -0.0 - 0.0im\n",
       "  0.0 + 0.0im"
      ]
     },
     "metadata": {},
     "execution_count": 99
    }
   ],
   "metadata": {}
  },
  {
   "cell_type": "code",
   "execution_count": 65,
   "source": [
    "function lalala()\n",
    "    s1 = initialize([[0,1],[1,0]], [1/sqrt(2) + 0.0im,1/sqrt(2)+0.0im])\n",
    "    s2 = deepcopy(s1)\n",
    "    s3 = deepcopy(s1)\n",
    "    i,j = 1,2\n",
    "    t = 1.0\n",
    "    #@time efficσiσj(i,j, s1, s2, s3, t)\n",
    "    @time σz(i, s1, s2)\n",
    "    return s1\n",
    "    #@time σz!(2, s1) #ARRRGH!!! now sz is allocating but sx and sy aren't??\n",
    "end"
   ],
   "outputs": [
    {
     "output_type": "execute_result",
     "data": {
      "text/plain": [
       "lalala (generic function with 1 method)"
      ]
     },
     "metadata": {},
     "execution_count": 65
    }
   ],
   "metadata": {}
  },
  {
   "cell_type": "code",
   "execution_count": 113,
   "source": [
    "#change getJtensor\n",
    "getBasis(L) = [append!(zeros(ComplexF64,i),[1.0 + 0.0im],zeros(ComplexF64,2^L-i-1)) for i in 0:2^L-1]\n",
    "\n",
    "function operatorToMatrix!(mat, operator, basis)\n",
    "    for (i,spinorI) in enumerate(basis)\n",
    "        mat[:, i] = operator(spinorI)\n",
    "    end\n",
    "end\n",
    "function getJtensor(L,β, theta; betaArray=[])\n",
    "    betas = betaArray == [] ? [β^i for i in 0:L-2] : betaArray\n",
    "    length(betas) != L-1 ? error(\"betaArray is wrong length.\") : nothing\n",
    "\n",
    "    jTensor = zeros(2^L, 2^L, Int(L*(L-1)/2))\n",
    "    basis = getBasis(L)\n",
    "    s2 = deepcopy(basis[1])\n",
    "    s3 = deepcopy(basis[1])\n",
    "    baseIndex = 0\n",
    "    @views for k in 1:L-1\n",
    "        for n in 1:L-k\n",
    "            if betas[k] != 0.0\n",
    "                operatorToMatrix!(jTensor[:,:,baseIndex + n], x->betas[k]*efficσiσj(n,n+k,x,s2,s3,theta), basis)\n",
    "            end\n",
    "        end\n",
    "        baseIndex += L-k\n",
    "    end\n",
    "    return jTensor\n",
    "end\n",
    "function getHtensor(L)\n",
    "    hTensor = zeros(2^L, 2^L, L)\n",
    "    basis = getBasis(L)\n",
    "    s2 = deepcopy(basis[1])\n",
    "    @views for n in 1:L\n",
    "            operatorToMatrix!(hTensor[:,:,n], x->σz(n,x,s2), basis)\n",
    "    end\n",
    "    return hTensor\n",
    "end\n",
    "function levelspacing(vals)\n",
    "    sort!(vals)\n",
    "    for i in 1:length(vals)-1\n",
    "        vals[i] = vals[i+1] - vals[i]\n",
    "    end\n",
    "    for i in 1:length(vals)-2\n",
    "        vals[i] = min(vals[i],vals[i+1])/max(vals[i],vals[i+1])\n",
    "    end\n",
    "    return mean(@view vals[1:end-2])\n",
    "end"
   ],
   "outputs": [
    {
     "output_type": "execute_result",
     "data": {
      "text/plain": [
       "levelspacing (generic function with 1 method)"
      ]
     },
     "metadata": {},
     "execution_count": 113
    }
   ],
   "metadata": {}
  },
  {
   "cell_type": "code",
   "execution_count": 140,
   "source": [
    "function efficientHam(Hspace, hs, js, jTensor, hTensor)\n",
    "  \n",
    "    L = Int(log2(size(Hspace)[1]))\n",
    "    for i in 1:2^L, j in 1:2^L\n",
    "        Hspace[i,j] = 0.0 + 0.0im\n",
    "    end\n",
    "    for j in 1:Int(L*(L-1)/2), m in 1:2^L, n in 1:2^L\n",
    "        Hspace[m,n] += (js[j] * jTensor[m,n,j])\n",
    "    end\n",
    "    \n",
    "    for j in 1:L, m in 1:2^L, n in 1:2^L\n",
    "        Hspace[m,n] += hs[j] * hTensor[m,n,j]\n",
    "    end\n",
    "    \n",
    "    return Hspace\n",
    "end\n",
    "function getKet(spinArray)\n",
    "    L = length(spinArray)\n",
    "    spinBasis=[reverse(digits(i, base=2, pad=length(spinArray))) for i in 0:2^length(spinArray)-1]\n",
    "    coeffs = zeros(2^L)\n",
    "    for i in eachindex(spinBasis)\n",
    "        coeffs[i] = spinBasis[i] == spinArray ? 1.0 : 0.0\n",
    "    end\n",
    "    return coeffs\n",
    "end\n",
    "function getSpins!(ket, spinBasis, coeffs) # Clean this up\n",
    "    L = Int(log2(length(ket)))\n",
    "\n",
    "    #abs2ket = abs2.(ket)\n",
    "    coeffs .= 0.0\n",
    "    \n",
    "    for i in eachindex(spinBasis)\n",
    "        if ket[i] != 0.0\n",
    "            for j in 1:L\n",
    "                coeffs[j] += abs2(ket[i])*(spinBasis[i][j] == 0 ? -1.0 : 1.0)\n",
    "            end\n",
    "        end\n",
    "    end\n",
    "    return coeffs\n",
    "end\n",
    "\n",
    "\n",
    "efficU2(Hspace, hs, js, jTensor, hTensor) = exp(-im.*efficientHam(Hspace, hs, js, jTensor, hTensor))\n",
    "\n",
    "function newU1(L, ε)\n",
    "    mat = zeros(2^L,2^L)\n",
    "    basis = getBasis(L)\n",
    "    answers = deepcopy(basis)    \n",
    "    for i in 1:2^L\n",
    "        for k in 1:L\n",
    "            σx(k,basis[i],answers[k])\n",
    "        end\n",
    "        for k in 2:L \n",
    "            answers[1] += answers[k] # This is where the allocations happen\n",
    "        end \n",
    "        mat[:,i] .= answers[1]\n",
    "    end\n",
    "    return round.(exp(-im * mat .* (1-ε) * pi/2 ), digits=15)\n",
    "end\n",
    "\n",
    "#=function U_levelspacing(L, ε, J0, sigJ, sigH, theta)       \n",
    "    niters=100\n",
    "    spac = zeros(niters)\n",
    "    for i in 1:niters\n",
    "        spac[i] = levelspacing(mod.(real.(round.(-im.*log.(eigvals(U1(L,ε)*U2(L, J0, sigJ, sigH; thet=theta))),digits=10)),2*pi))\n",
    "    end\n",
    "    return mean(spac)\n",
    "end=#"
   ],
   "outputs": [
    {
     "output_type": "execute_result",
     "data": {
      "text/plain": [
       "newU1 (generic function with 1 method)"
      ]
     },
     "metadata": {},
     "execution_count": 140
    }
   ],
   "metadata": {}
  },
  {
   "cell_type": "code",
   "execution_count": 158,
   "source": [
    "\n",
    "function autocorrelator(spins, Ureal1, Ureal2, N)\n",
    "    initKet = getKet(spins)\n",
    "    L = length(spins)\n",
    "    negOneSpins = replace(spins, 0 => -1)\n",
    "    basis = [reverse(digits(i, base=2, pad=L)) for i in 0:2^L-1]\n",
    "\n",
    "    autoCor = zeros(N+1)\n",
    "    moreSpins = zeros(L,N+1)\n",
    "    currentKet = deepcopy(initKet)\n",
    "    newKet = zeros(2^L)\n",
    "\n",
    "    autoCor[1] = 1.0\n",
    "    moreSpins[:,1] = negOneSpins\n",
    "\n",
    "    for i in 2:N+1\n",
    "        newKet = Ureal2*Ureal1*currentKet\n",
    "        getSpins!(newKet, basis, view(moreSpins,:,i))\n",
    "        #autoCor[i] = mean(moreSpins[:,i].*negOneSpins)\n",
    "        autoCor[i] = (moreSpins[:,i].*negOneSpins)[Int(round(L/2))]\n",
    "        currentKet = newKet\n",
    "    end\n",
    "    #println(autoCor)\n",
    "    return autoCor, moreSpins\n",
    "end\n",
    "function gethsandjs(niters, L, J0, σj, σh)\n",
    "    hs = zeros(niters, L)\n",
    "    js = zeros(niters, Int(L*(L-1)/2))\n",
    "    for i in eachindex(hs)\n",
    "        if σh > 0.0\n",
    "            hs[i] = rand(Uniform(0.0, σh))\n",
    "        else\n",
    "            hs[i] = 0.0\n",
    "        end\n",
    "    end\n",
    "\n",
    "    for i in eachindex(js)\n",
    "        if σj > 0.0\n",
    "            js[i] = rand(Uniform(J0-σj, J0+σj))\n",
    "        else\n",
    "            js[i] = 0.0\n",
    "        end\n",
    "    end\n",
    "    return hs, js\n",
    "end\n",
    "function effAvgAutoCor(niters, nperiods, spins, ε, J0, σj, σh, t)\n",
    "    \n",
    "    L = length(spins)\n",
    "    u1 = newU1(L, ε)\n",
    "    Hspace = zeros(2^L, 2^L)\n",
    "\n",
    "    hs, js = gethsandjs(niters, L, J0, σj, σh)\n",
    "\n",
    "    \n",
    "    cors = zeros(nperiods+1, niters)\n",
    "    finalCors=zeros(nperiods+1)\n",
    "    allSpins = zeros(L, nperiods+1, niters)\n",
    "    jTensor = getJtensor(L, 0.0, t) #β=0.0\n",
    "    hTensor = getHtensor(L)\n",
    "\n",
    "    for i in 1:niters\n",
    "        cors[:,i],allSpins[:,:, i]  = autocorrelator(spins, u1, efficU2(Hspace,  hs[i,:] ,  js[i,:], jTensor, hTensor), nperiods)\n",
    "        if i % 10 == 0\n",
    "            println(\"Finished \",i,\"th iteration\")\n",
    "        end\n",
    "    end\n",
    "    finalCors = mean(cors, dims=2)\n",
    "    allSpins[:,:,1] = mean(allSpins,dims=3)\n",
    "    return finalCors, allSpins[:,:,1]\n",
    "end"
   ],
   "outputs": [
    {
     "output_type": "execute_result",
     "data": {
      "text/plain": [
       "effAvgAutoCor (generic function with 1 method)"
      ]
     },
     "metadata": {},
     "execution_count": 158
    }
   ],
   "metadata": {}
  },
  {
   "cell_type": "markdown",
   "source": [
    "## Spin echo - J0 = ε = 0"
   ],
   "metadata": {}
  },
  {
   "cell_type": "code",
   "execution_count": 160,
   "source": [
    "pyplot()\n",
    "n = 100\n",
    "realres, spinmap = effAvgAutoCor(100, n, [0,1,0,1], 0.0, 0.0, 0.0, 0.0, 1.0)\n",
    "res = abs.(fft(realres))\n",
    "l = @layout [a b ; c{0.2h}] \n",
    "plot(realres, opacity=0.5,xscale=:log10, legend=false)\n",
    "plot!(collect(1:2:n),realres[1:2:n])\n",
    "p1 = plot!([1; collect(2:2:n)],[-1.0 ; realres[2:2:n]])\n",
    "p21 = plot(res, yscale =:log10, ylims=(0.1,350), legend=false)\n",
    "p3 = heatmap(spinmap[:,1:30], c=:viridis, clims=(-1,1))\n",
    "plot(p1,p21, p3, layout=l)"
   ],
   "outputs": [
    {
     "output_type": "stream",
     "name": "stdout",
     "text": [
      "Finished 10th iteration\n",
      "Finished 20th iteration\n",
      "Finished 30th iteration\n",
      "Finished 40th iteration\n",
      "Finished 50th iteration\n",
      "Finished 60th iteration\n",
      "Finished 70th iteration\n",
      "Finished 80th iteration\n",
      "Finished 90th iteration\n",
      "Finished 100th iteration\n"
     ]
    },
    {
     "output_type": "execute_result",
     "data": {
      "image/png": "[encoded data removed]"
     },
     "metadata": {},
     "execution_count": 160
    }
   ],
   "metadata": {}
  },
  {
   "cell_type": "markdown",
   "source": [
    "## Turn on interactions. No onsite disorder"
   ],
   "metadata": {}
  },
  {
   "cell_type": "code",
   "execution_count": 155,
   "source": [
    "n = 1000\n",
    "realres, spinmap = averageAutocorrelator(100, n, [0,1,0,1], 0.0, 1.0, 0.2, 0.0, 1.0)\n",
    "res = abs.(fft(realres))\n",
    "l = @layout [a b ; c{0.2h}] \n",
    "p1=plot(realres,xscale=:log10, ylims=(-1,1),legend=false)\n",
    "#plot!(collect(1:2:n),realres[1:2:n])\n",
    "#p1 = plot!([1; collect(2:2:n)],[-1.0 ; realres[2:2:n]])\n",
    "p21 = plot(res, yscale =:log10, ylims=(0.1,350), legend=false)\n",
    "p3 = heatmap(spinmap[:,1:30], c=:viridis, clims=(-1,1))\n",
    "plot(p1,p21, p3, layout=l)"
   ],
   "outputs": [
    {
     "output_type": "error",
     "ename": "LoadError",
     "evalue": "SYSTEM: show(lasterr) caused an error",
     "traceback": [
      "SYSTEM: show(lasterr) caused an error",
      "",
      "Stacktrace:",
      " [1] operatorToMatrix(operator::var\"#60#62\"{Int64, Float64, Vector{ComplexF64}}, basis::Vector{Vector{ComplexF64}})",
      "   @ Main ./In[66]:8",
      " [2] U1(L::Int64, ε::Float64)",
      "   @ Main ./In[41]:96",
      " [3] averageAutocorrelator(niters::Int64, nperiods::Int64, spins::Vector{Int64}, ε::Float64, J0::Float64, σj::Float64, σh::Float64, t::Float64)",
      "   @ Main ./In[42]:41",
      " [4] top-level scope",
      "   @ In[155]:2",
      " [5] eval",
      "   @ ./boot.jl:360 [inlined]",
      " [6] include_string(mapexpr::typeof(REPL.softscope), mod::Module, code::String, filename::String)",
      "   @ Base ./loading.jl:1116"
     ]
    }
   ],
   "metadata": {}
  },
  {
   "cell_type": "markdown",
   "source": [
    "## MBL with onsite and Ising-even disorder"
   ],
   "metadata": {}
  },
  {
   "cell_type": "code",
   "execution_count": null,
   "source": [
    "n = 1100\n",
    "init=[1,0,0,1] #rand([0,1],6)\n",
    "jz = 1.0\n",
    "ε = 0.1\n",
    "σh = 10.0\n",
    "realres, spinmap = effAvgAutoCor(100, n, init, ε, jz, 0.2*jz, σh, 0.0)\n",
    "res = abs.(fft(realres))\n",
    "l = @layout [a b ; c{0.2h}; d{0.2h}] \n",
    "plot(realres, opacity=0.5, xscale=:log10, legend=false)\n",
    "plot!(collect(1:2:n),realres[1:2:n])\n",
    "p1 = plot!([1; collect(2:2:n)],[-1.0 ; realres[2:2:n]])\n",
    "p21 = plot(res, yscale =:log10, ylims=(0.1,350), legend=false)\n",
    "p3 = heatmap(spinmap[:,1:30], c=:viridis, clims=(-1,1))\n",
    "howitsgoing = 1001:1030\n",
    "p4 = heatmap(collect(howitsgoing), collect(1:length(init)), spinmap[:,howitsgoing], c=:viridis, clims=(-1,1))#print(spinmap[:,1001:1030])\n",
    "plot(p1,p21, p3, p4, layout=l)"
   ],
   "outputs": [
    {
     "output_type": "stream",
     "name": "stdout",
     "text": [
      "Finished 10th iteration\n",
      "Finished 20th iteration\n",
      "Finished 30th iteration\n",
      "Finished 40th iteration\n",
      "Finished 50th iteration\n",
      "Finished 60th iteration\n",
      "Finished 70th iteration\n",
      "Finished 80th iteration\n",
      "Finished 90th iteration\n",
      "Finished 100th iteration\n"
     ]
    },
    {
     "output_type": "execute_result",
     "data": {
      "image/png": "[encoded data removed]"
     },
     "metadata": {},
     "execution_count": 149
    }
   ],
   "metadata": {}
  },
  {
   "cell_type": "markdown",
   "source": [
    "## MBL PM"
   ],
   "metadata": {}
  },
  {
   "cell_type": "code",
   "execution_count": 33,
   "source": [
    "n = 100000\n",
    "init = [0,1,1,0]\n",
    "jz = 1.0\n",
    "ε = 0.95\n",
    "σh = 0.05\n",
    "realres, spinmap = averageAutocorrelator(100, n, init, ε, jz, 0.2*jz, σh, 0.0)\n",
    "res = abs.(fft(realres))\n",
    "l = @layout [a b ; c{0.2h}] \n",
    "p1 = plot(realres, opacity=1.0,xscale=:log10, ylims=(-1,1),legend=false)\n",
    "#plot!(collect(1:2:n),realres[1:2:n])\n",
    "#p1 = plot!([1; collect(2:2:n)],[-1.0 ; realres[2:2:n]])\n",
    "p21 = plot(res, yscale =:log10, ylims=(0.1,350), legend=false)\n",
    "howitsgoing = 10000:10040\n",
    "p3 = heatmap(collect(howitsgoing), collect(1:length(init)), spinmap[:,howitsgoing], c=:viridis, clims=(-1,1))\n",
    "plot(p1,p21, p3, layout=l)"
   ],
   "outputs": [
    {
     "output_type": "execute_result",
     "data": {
      "image/png": "[encoded data removed]"
     },
     "metadata": {},
     "execution_count": 33
    }
   ],
   "metadata": {}
  },
  {
   "cell_type": "code",
   "execution_count": 164,
   "source": [
    "init = [1,0,1,0,1,0,1]\n",
    "@time getJtensor(8, 0.0, 0.0)#effAvgAutoCor(100, n, init, ε, jz, 0.2*jz, σh, 0.0)"
   ],
   "outputs": [
    {
     "output_type": "stream",
     "name": "stdout",
     "text": [
      "  0.019021 seconds (3.00 k allocations: 23.963 MiB)\n"
     ]
    },
    {
     "output_type": "execute_result",
     "data": {
      "text/plain": [
       "256×256×28 Array{Float64, 3}:\n",
       "[:, :, 1] =\n",
       " 1.0  0.0  0.0  0.0  0.0  0.0  0.0  0.0  …  0.0  0.0  0.0  0.0  0.0  0.0  0.0\n",
       " 0.0  1.0  0.0  0.0  0.0  0.0  0.0  0.0     0.0  0.0  0.0  0.0  0.0  0.0  0.0\n",
       " 0.0  0.0  1.0  0.0  0.0  0.0  0.0  0.0     0.0  0.0  0.0  0.0  0.0  0.0  0.0\n",
       " 0.0  0.0  0.0  1.0  0.0  0.0  0.0  0.0     0.0  0.0  0.0  0.0  0.0  0.0  0.0\n",
       " 0.0  0.0  0.0  0.0  1.0  0.0  0.0  0.0     0.0  0.0  0.0  0.0  0.0  0.0  0.0\n",
       " 0.0  0.0  0.0  0.0  0.0  1.0  0.0  0.0  …  0.0  0.0  0.0  0.0  0.0  0.0  0.0\n",
       " 0.0  0.0  0.0  0.0  0.0  0.0  1.0  0.0     0.0  0.0  0.0  0.0  0.0  0.0  0.0\n",
       " 0.0  0.0  0.0  0.0  0.0  0.0  0.0  1.0     0.0  0.0  0.0  0.0  0.0  0.0  0.0\n",
       " 0.0  0.0  0.0  0.0  0.0  0.0  0.0  0.0     0.0  0.0  0.0  0.0  0.0  0.0  0.0\n",
       " 0.0  0.0  0.0  0.0  0.0  0.0  0.0  0.0     0.0  0.0  0.0  0.0  0.0  0.0  0.0\n",
       " 0.0  0.0  0.0  0.0  0.0  0.0  0.0  0.0  …  0.0  0.0  0.0  0.0  0.0  0.0  0.0\n",
       " 0.0  0.0  0.0  0.0  0.0  0.0  0.0  0.0     0.0  0.0  0.0  0.0  0.0  0.0  0.0\n",
       " 0.0  0.0  0.0  0.0  0.0  0.0  0.0  0.0     0.0  0.0  0.0  0.0  0.0  0.0  0.0\n",
       " ⋮                        ⋮              ⋱       ⋮                        ⋮\n",
       " 0.0  0.0  0.0  0.0  0.0  0.0  0.0  0.0     0.0  0.0  0.0  0.0  0.0  0.0  0.0\n",
       " 0.0  0.0  0.0  0.0  0.0  0.0  0.0  0.0  …  0.0  0.0  0.0  0.0  0.0  0.0  0.0\n",
       " 0.0  0.0  0.0  0.0  0.0  0.0  0.0  0.0     0.0  0.0  0.0  0.0  0.0  0.0  0.0\n",
       " 0.0  0.0  0.0  0.0  0.0  0.0  0.0  0.0     0.0  0.0  0.0  0.0  0.0  0.0  0.0\n",
       " 0.0  0.0  0.0  0.0  0.0  0.0  0.0  0.0     0.0  0.0  0.0  0.0  0.0  0.0  0.0\n",
       " 0.0  0.0  0.0  0.0  0.0  0.0  0.0  0.0     1.0  0.0  0.0  0.0  0.0  0.0  0.0\n",
       " 0.0  0.0  0.0  0.0  0.0  0.0  0.0  0.0  …  0.0  1.0  0.0  0.0  0.0  0.0  0.0\n",
       " 0.0  0.0  0.0  0.0  0.0  0.0  0.0  0.0     0.0  0.0  1.0  0.0  0.0  0.0  0.0\n",
       " 0.0  0.0  0.0  0.0  0.0  0.0  0.0  0.0     0.0  0.0  0.0  1.0  0.0  0.0  0.0\n",
       " 0.0  0.0  0.0  0.0  0.0  0.0  0.0  0.0     0.0  0.0  0.0  0.0  1.0  0.0  0.0\n",
       " 0.0  0.0  0.0  0.0  0.0  0.0  0.0  0.0     0.0  0.0  0.0  0.0  0.0  1.0  0.0\n",
       " 0.0  0.0  0.0  0.0  0.0  0.0  0.0  0.0  …  0.0  0.0  0.0  0.0  0.0  0.0  1.0\n",
       "\n",
       "[:, :, 2] =\n",
       " 1.0  0.0  0.0  0.0  0.0  0.0  0.0  0.0  …  0.0  0.0  0.0  0.0  0.0  0.0  0.0\n",
       " 0.0  1.0  0.0  0.0  0.0  0.0  0.0  0.0     0.0  0.0  0.0  0.0  0.0  0.0  0.0\n",
       " 0.0  0.0  1.0  0.0  0.0  0.0  0.0  0.0     0.0  0.0  0.0  0.0  0.0  0.0  0.0\n",
       " 0.0  0.0  0.0  1.0  0.0  0.0  0.0  0.0     0.0  0.0  0.0  0.0  0.0  0.0  0.0\n",
       " 0.0  0.0  0.0  0.0  1.0  0.0  0.0  0.0     0.0  0.0  0.0  0.0  0.0  0.0  0.0\n",
       " 0.0  0.0  0.0  0.0  0.0  1.0  0.0  0.0  …  0.0  0.0  0.0  0.0  0.0  0.0  0.0\n",
       " 0.0  0.0  0.0  0.0  0.0  0.0  1.0  0.0     0.0  0.0  0.0  0.0  0.0  0.0  0.0\n",
       " 0.0  0.0  0.0  0.0  0.0  0.0  0.0  1.0     0.0  0.0  0.0  0.0  0.0  0.0  0.0\n",
       " 0.0  0.0  0.0  0.0  0.0  0.0  0.0  0.0     0.0  0.0  0.0  0.0  0.0  0.0  0.0\n",
       " 0.0  0.0  0.0  0.0  0.0  0.0  0.0  0.0     0.0  0.0  0.0  0.0  0.0  0.0  0.0\n",
       " 0.0  0.0  0.0  0.0  0.0  0.0  0.0  0.0  …  0.0  0.0  0.0  0.0  0.0  0.0  0.0\n",
       " 0.0  0.0  0.0  0.0  0.0  0.0  0.0  0.0     0.0  0.0  0.0  0.0  0.0  0.0  0.0\n",
       " 0.0  0.0  0.0  0.0  0.0  0.0  0.0  0.0     0.0  0.0  0.0  0.0  0.0  0.0  0.0\n",
       " ⋮                        ⋮              ⋱       ⋮                        ⋮\n",
       " 0.0  0.0  0.0  0.0  0.0  0.0  0.0  0.0     0.0  0.0  0.0  0.0  0.0  0.0  0.0\n",
       " 0.0  0.0  0.0  0.0  0.0  0.0  0.0  0.0  …  0.0  0.0  0.0  0.0  0.0  0.0  0.0\n",
       " 0.0  0.0  0.0  0.0  0.0  0.0  0.0  0.0     0.0  0.0  0.0  0.0  0.0  0.0  0.0\n",
       " 0.0  0.0  0.0  0.0  0.0  0.0  0.0  0.0     0.0  0.0  0.0  0.0  0.0  0.0  0.0\n",
       " 0.0  0.0  0.0  0.0  0.0  0.0  0.0  0.0     0.0  0.0  0.0  0.0  0.0  0.0  0.0\n",
       " 0.0  0.0  0.0  0.0  0.0  0.0  0.0  0.0     1.0  0.0  0.0  0.0  0.0  0.0  0.0\n",
       " 0.0  0.0  0.0  0.0  0.0  0.0  0.0  0.0  …  0.0  1.0  0.0  0.0  0.0  0.0  0.0\n",
       " 0.0  0.0  0.0  0.0  0.0  0.0  0.0  0.0     0.0  0.0  1.0  0.0  0.0  0.0  0.0\n",
       " 0.0  0.0  0.0  0.0  0.0  0.0  0.0  0.0     0.0  0.0  0.0  1.0  0.0  0.0  0.0\n",
       " 0.0  0.0  0.0  0.0  0.0  0.0  0.0  0.0     0.0  0.0  0.0  0.0  1.0  0.0  0.0\n",
       " 0.0  0.0  0.0  0.0  0.0  0.0  0.0  0.0     0.0  0.0  0.0  0.0  0.0  1.0  0.0\n",
       " 0.0  0.0  0.0  0.0  0.0  0.0  0.0  0.0  …  0.0  0.0  0.0  0.0  0.0  0.0  1.0\n",
       "\n",
       "[:, :, 3] =\n",
       " 1.0  0.0  0.0  0.0  0.0  0.0  0.0  0.0  …  0.0  0.0  0.0  0.0  0.0  0.0  0.0\n",
       " 0.0  1.0  0.0  0.0  0.0  0.0  0.0  0.0     0.0  0.0  0.0  0.0  0.0  0.0  0.0\n",
       " 0.0  0.0  1.0  0.0  0.0  0.0  0.0  0.0     0.0  0.0  0.0  0.0  0.0  0.0  0.0\n",
       " 0.0  0.0  0.0  1.0  0.0  0.0  0.0  0.0     0.0  0.0  0.0  0.0  0.0  0.0  0.0\n",
       " 0.0  0.0  0.0  0.0  1.0  0.0  0.0  0.0     0.0  0.0  0.0  0.0  0.0  0.0  0.0\n",
       " 0.0  0.0  0.0  0.0  0.0  1.0  0.0  0.0  …  0.0  0.0  0.0  0.0  0.0  0.0  0.0\n",
       " 0.0  0.0  0.0  0.0  0.0  0.0  1.0  0.0     0.0  0.0  0.0  0.0  0.0  0.0  0.0\n",
       " 0.0  0.0  0.0  0.0  0.0  0.0  0.0  1.0     0.0  0.0  0.0  0.0  0.0  0.0  0.0\n",
       " 0.0  0.0  0.0  0.0  0.0  0.0  0.0  0.0     0.0  0.0  0.0  0.0  0.0  0.0  0.0\n",
       " 0.0  0.0  0.0  0.0  0.0  0.0  0.0  0.0     0.0  0.0  0.0  0.0  0.0  0.0  0.0\n",
       " 0.0  0.0  0.0  0.0  0.0  0.0  0.0  0.0  …  0.0  0.0  0.0  0.0  0.0  0.0  0.0\n",
       " 0.0  0.0  0.0  0.0  0.0  0.0  0.0  0.0     0.0  0.0  0.0  0.0  0.0  0.0  0.0\n",
       " 0.0  0.0  0.0  0.0  0.0  0.0  0.0  0.0     0.0  0.0  0.0  0.0  0.0  0.0  0.0\n",
       " ⋮                        ⋮              ⋱       ⋮                        ⋮\n",
       " 0.0  0.0  0.0  0.0  0.0  0.0  0.0  0.0     0.0  0.0  0.0  0.0  0.0  0.0  0.0\n",
       " 0.0  0.0  0.0  0.0  0.0  0.0  0.0  0.0  …  0.0  0.0  0.0  0.0  0.0  0.0  0.0\n",
       " 0.0  0.0  0.0  0.0  0.0  0.0  0.0  0.0     0.0  0.0  0.0  0.0  0.0  0.0  0.0\n",
       " 0.0  0.0  0.0  0.0  0.0  0.0  0.0  0.0     0.0  0.0  0.0  0.0  0.0  0.0  0.0\n",
       " 0.0  0.0  0.0  0.0  0.0  0.0  0.0  0.0     0.0  0.0  0.0  0.0  0.0  0.0  0.0\n",
       " 0.0  0.0  0.0  0.0  0.0  0.0  0.0  0.0     1.0  0.0  0.0  0.0  0.0  0.0  0.0\n",
       " 0.0  0.0  0.0  0.0  0.0  0.0  0.0  0.0  …  0.0  1.0  0.0  0.0  0.0  0.0  0.0\n",
       " 0.0  0.0  0.0  0.0  0.0  0.0  0.0  0.0     0.0  0.0  1.0  0.0  0.0  0.0  0.0\n",
       " 0.0  0.0  0.0  0.0  0.0  0.0  0.0  0.0     0.0  0.0  0.0  1.0  0.0  0.0  0.0\n",
       " 0.0  0.0  0.0  0.0  0.0  0.0  0.0  0.0     0.0  0.0  0.0  0.0  1.0  0.0  0.0\n",
       " 0.0  0.0  0.0  0.0  0.0  0.0  0.0  0.0     0.0  0.0  0.0  0.0  0.0  1.0  0.0\n",
       " 0.0  0.0  0.0  0.0  0.0  0.0  0.0  0.0  …  0.0  0.0  0.0  0.0  0.0  0.0  1.0\n",
       "\n",
       "...\n",
       "\n",
       "[:, :, 26] =\n",
       " 0.0  0.0  0.0  0.0  0.0  0.0  0.0  0.0  …  0.0  0.0  0.0  0.0  0.0  0.0  0.0\n",
       " 0.0  0.0  0.0  0.0  0.0  0.0  0.0  0.0     0.0  0.0  0.0  0.0  0.0  0.0  0.0\n",
       " 0.0  0.0  0.0  0.0  0.0  0.0  0.0  0.0     0.0  0.0  0.0  0.0  0.0  0.0  0.0\n",
       " 0.0  0.0  0.0  0.0  0.0  0.0  0.0  0.0     0.0  0.0  0.0  0.0  0.0  0.0  0.0\n",
       " 0.0  0.0  0.0  0.0  0.0  0.0  0.0  0.0     0.0  0.0  0.0  0.0  0.0  0.0  0.0\n",
       " 0.0  0.0  0.0  0.0  0.0  0.0  0.0  0.0  …  0.0  0.0  0.0  0.0  0.0  0.0  0.0\n",
       " 0.0  0.0  0.0  0.0  0.0  0.0  0.0  0.0     0.0  0.0  0.0  0.0  0.0  0.0  0.0\n",
       " 0.0  0.0  0.0  0.0  0.0  0.0  0.0  0.0     0.0  0.0  0.0  0.0  0.0  0.0  0.0\n",
       " 0.0  0.0  0.0  0.0  0.0  0.0  0.0  0.0     0.0  0.0  0.0  0.0  0.0  0.0  0.0\n",
       " 0.0  0.0  0.0  0.0  0.0  0.0  0.0  0.0     0.0  0.0  0.0  0.0  0.0  0.0  0.0\n",
       " 0.0  0.0  0.0  0.0  0.0  0.0  0.0  0.0  …  0.0  0.0  0.0  0.0  0.0  0.0  0.0\n",
       " 0.0  0.0  0.0  0.0  0.0  0.0  0.0  0.0     0.0  0.0  0.0  0.0  0.0  0.0  0.0\n",
       " 0.0  0.0  0.0  0.0  0.0  0.0  0.0  0.0     0.0  0.0  0.0  0.0  0.0  0.0  0.0\n",
       " ⋮                        ⋮              ⋱       ⋮                        ⋮\n",
       " 0.0  0.0  0.0  0.0  0.0  0.0  0.0  0.0     0.0  0.0  0.0  0.0  0.0  0.0  0.0\n",
       " 0.0  0.0  0.0  0.0  0.0  0.0  0.0  0.0  …  0.0  0.0  0.0  0.0  0.0  0.0  0.0\n",
       " 0.0  0.0  0.0  0.0  0.0  0.0  0.0  0.0     0.0  0.0  0.0  0.0  0.0  0.0  0.0\n",
       " 0.0  0.0  0.0  0.0  0.0  0.0  0.0  0.0     0.0  0.0  0.0  0.0  0.0  0.0  0.0\n",
       " 0.0  0.0  0.0  0.0  0.0  0.0  0.0  0.0     0.0  0.0  0.0  0.0  0.0  0.0  0.0\n",
       " 0.0  0.0  0.0  0.0  0.0  0.0  0.0  0.0     0.0  0.0  0.0  0.0  0.0  0.0  0.0\n",
       " 0.0  0.0  0.0  0.0  0.0  0.0  0.0  0.0  …  0.0  0.0  0.0  0.0  0.0  0.0  0.0\n",
       " 0.0  0.0  0.0  0.0  0.0  0.0  0.0  0.0     0.0  0.0  0.0  0.0  0.0  0.0  0.0\n",
       " 0.0  0.0  0.0  0.0  0.0  0.0  0.0  0.0     0.0  0.0  0.0  0.0  0.0  0.0  0.0\n",
       " 0.0  0.0  0.0  0.0  0.0  0.0  0.0  0.0     0.0  0.0  0.0  0.0  0.0  0.0  0.0\n",
       " 0.0  0.0  0.0  0.0  0.0  0.0  0.0  0.0     0.0  0.0  0.0  0.0  0.0  0.0  0.0\n",
       " 0.0  0.0  0.0  0.0  0.0  0.0  0.0  0.0  …  0.0  0.0  0.0  0.0  0.0  0.0  0.0\n",
       "\n",
       "[:, :, 27] =\n",
       " 0.0  0.0  0.0  0.0  0.0  0.0  0.0  0.0  …  0.0  0.0  0.0  0.0  0.0  0.0  0.0\n",
       " 0.0  0.0  0.0  0.0  0.0  0.0  0.0  0.0     0.0  0.0  0.0  0.0  0.0  0.0  0.0\n",
       " 0.0  0.0  0.0  0.0  0.0  0.0  0.0  0.0     0.0  0.0  0.0  0.0  0.0  0.0  0.0\n",
       " 0.0  0.0  0.0  0.0  0.0  0.0  0.0  0.0     0.0  0.0  0.0  0.0  0.0  0.0  0.0\n",
       " 0.0  0.0  0.0  0.0  0.0  0.0  0.0  0.0     0.0  0.0  0.0  0.0  0.0  0.0  0.0\n",
       " 0.0  0.0  0.0  0.0  0.0  0.0  0.0  0.0  …  0.0  0.0  0.0  0.0  0.0  0.0  0.0\n",
       " 0.0  0.0  0.0  0.0  0.0  0.0  0.0  0.0     0.0  0.0  0.0  0.0  0.0  0.0  0.0\n",
       " 0.0  0.0  0.0  0.0  0.0  0.0  0.0  0.0     0.0  0.0  0.0  0.0  0.0  0.0  0.0\n",
       " 0.0  0.0  0.0  0.0  0.0  0.0  0.0  0.0     0.0  0.0  0.0  0.0  0.0  0.0  0.0\n",
       " 0.0  0.0  0.0  0.0  0.0  0.0  0.0  0.0     0.0  0.0  0.0  0.0  0.0  0.0  0.0\n",
       " 0.0  0.0  0.0  0.0  0.0  0.0  0.0  0.0  …  0.0  0.0  0.0  0.0  0.0  0.0  0.0\n",
       " 0.0  0.0  0.0  0.0  0.0  0.0  0.0  0.0     0.0  0.0  0.0  0.0  0.0  0.0  0.0\n",
       " 0.0  0.0  0.0  0.0  0.0  0.0  0.0  0.0     0.0  0.0  0.0  0.0  0.0  0.0  0.0\n",
       " ⋮                        ⋮              ⋱       ⋮                        ⋮\n",
       " 0.0  0.0  0.0  0.0  0.0  0.0  0.0  0.0     0.0  0.0  0.0  0.0  0.0  0.0  0.0\n",
       " 0.0  0.0  0.0  0.0  0.0  0.0  0.0  0.0  …  0.0  0.0  0.0  0.0  0.0  0.0  0.0\n",
       " 0.0  0.0  0.0  0.0  0.0  0.0  0.0  0.0     0.0  0.0  0.0  0.0  0.0  0.0  0.0\n",
       " 0.0  0.0  0.0  0.0  0.0  0.0  0.0  0.0     0.0  0.0  0.0  0.0  0.0  0.0  0.0\n",
       " 0.0  0.0  0.0  0.0  0.0  0.0  0.0  0.0     0.0  0.0  0.0  0.0  0.0  0.0  0.0\n",
       " 0.0  0.0  0.0  0.0  0.0  0.0  0.0  0.0     0.0  0.0  0.0  0.0  0.0  0.0  0.0\n",
       " 0.0  0.0  0.0  0.0  0.0  0.0  0.0  0.0  …  0.0  0.0  0.0  0.0  0.0  0.0  0.0\n",
       " 0.0  0.0  0.0  0.0  0.0  0.0  0.0  0.0     0.0  0.0  0.0  0.0  0.0  0.0  0.0\n",
       " 0.0  0.0  0.0  0.0  0.0  0.0  0.0  0.0     0.0  0.0  0.0  0.0  0.0  0.0  0.0\n",
       " 0.0  0.0  0.0  0.0  0.0  0.0  0.0  0.0     0.0  0.0  0.0  0.0  0.0  0.0  0.0\n",
       " 0.0  0.0  0.0  0.0  0.0  0.0  0.0  0.0     0.0  0.0  0.0  0.0  0.0  0.0  0.0\n",
       " 0.0  0.0  0.0  0.0  0.0  0.0  0.0  0.0  …  0.0  0.0  0.0  0.0  0.0  0.0  0.0\n",
       "\n",
       "[:, :, 28] =\n",
       " 0.0  0.0  0.0  0.0  0.0  0.0  0.0  0.0  …  0.0  0.0  0.0  0.0  0.0  0.0  0.0\n",
       " 0.0  0.0  0.0  0.0  0.0  0.0  0.0  0.0     0.0  0.0  0.0  0.0  0.0  0.0  0.0\n",
       " 0.0  0.0  0.0  0.0  0.0  0.0  0.0  0.0     0.0  0.0  0.0  0.0  0.0  0.0  0.0\n",
       " 0.0  0.0  0.0  0.0  0.0  0.0  0.0  0.0     0.0  0.0  0.0  0.0  0.0  0.0  0.0\n",
       " 0.0  0.0  0.0  0.0  0.0  0.0  0.0  0.0     0.0  0.0  0.0  0.0  0.0  0.0  0.0\n",
       " 0.0  0.0  0.0  0.0  0.0  0.0  0.0  0.0  …  0.0  0.0  0.0  0.0  0.0  0.0  0.0\n",
       " 0.0  0.0  0.0  0.0  0.0  0.0  0.0  0.0     0.0  0.0  0.0  0.0  0.0  0.0  0.0\n",
       " 0.0  0.0  0.0  0.0  0.0  0.0  0.0  0.0     0.0  0.0  0.0  0.0  0.0  0.0  0.0\n",
       " 0.0  0.0  0.0  0.0  0.0  0.0  0.0  0.0     0.0  0.0  0.0  0.0  0.0  0.0  0.0\n",
       " 0.0  0.0  0.0  0.0  0.0  0.0  0.0  0.0     0.0  0.0  0.0  0.0  0.0  0.0  0.0\n",
       " 0.0  0.0  0.0  0.0  0.0  0.0  0.0  0.0  …  0.0  0.0  0.0  0.0  0.0  0.0  0.0\n",
       " 0.0  0.0  0.0  0.0  0.0  0.0  0.0  0.0     0.0  0.0  0.0  0.0  0.0  0.0  0.0\n",
       " 0.0  0.0  0.0  0.0  0.0  0.0  0.0  0.0     0.0  0.0  0.0  0.0  0.0  0.0  0.0\n",
       " ⋮                        ⋮              ⋱       ⋮                        ⋮\n",
       " 0.0  0.0  0.0  0.0  0.0  0.0  0.0  0.0     0.0  0.0  0.0  0.0  0.0  0.0  0.0\n",
       " 0.0  0.0  0.0  0.0  0.0  0.0  0.0  0.0  …  0.0  0.0  0.0  0.0  0.0  0.0  0.0\n",
       " 0.0  0.0  0.0  0.0  0.0  0.0  0.0  0.0     0.0  0.0  0.0  0.0  0.0  0.0  0.0\n",
       " 0.0  0.0  0.0  0.0  0.0  0.0  0.0  0.0     0.0  0.0  0.0  0.0  0.0  0.0  0.0\n",
       " 0.0  0.0  0.0  0.0  0.0  0.0  0.0  0.0     0.0  0.0  0.0  0.0  0.0  0.0  0.0\n",
       " 0.0  0.0  0.0  0.0  0.0  0.0  0.0  0.0     0.0  0.0  0.0  0.0  0.0  0.0  0.0\n",
       " 0.0  0.0  0.0  0.0  0.0  0.0  0.0  0.0  …  0.0  0.0  0.0  0.0  0.0  0.0  0.0\n",
       " 0.0  0.0  0.0  0.0  0.0  0.0  0.0  0.0     0.0  0.0  0.0  0.0  0.0  0.0  0.0\n",
       " 0.0  0.0  0.0  0.0  0.0  0.0  0.0  0.0     0.0  0.0  0.0  0.0  0.0  0.0  0.0\n",
       " 0.0  0.0  0.0  0.0  0.0  0.0  0.0  0.0     0.0  0.0  0.0  0.0  0.0  0.0  0.0\n",
       " 0.0  0.0  0.0  0.0  0.0  0.0  0.0  0.0     0.0  0.0  0.0  0.0  0.0  0.0  0.0\n",
       " 0.0  0.0  0.0  0.0  0.0  0.0  0.0  0.0  …  0.0  0.0  0.0  0.0  0.0  0.0  0.0"
      ]
     },
     "metadata": {},
     "execution_count": 164
    }
   ],
   "metadata": {}
  },
  {
   "cell_type": "code",
   "execution_count": null,
   "source": [],
   "outputs": [],
   "metadata": {}
  }
 ],
 "metadata": {
  "kernelspec": {
   "display_name": "Julia 1.6.2",
   "language": "julia",
   "name": "julia-1.6"
  },
  "language_info": {
   "file_extension": ".jl",
   "mimetype": "application/julia",
   "name": "julia",
   "version": "1.6.2"
  }
 },
 "nbformat": 4,
 "nbformat_minor": 5
}